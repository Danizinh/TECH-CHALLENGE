{
 "cells": [
  {
   "cell_type": "markdown",
   "metadata": {},
   "source": [
    "**Tech-Challenge**\n",
    "\n",
    "**Problemas de Negócios** \n",
    "\n",
    "O objetivo é identificar quais são os melhores indicadores para prever os custos médicos individuais cobrados pelo seguro de saúde.\n",
    "\n",
    "**Base de Dados**\n",
    "\n",
    "Este conjunto de dados consiste nas seguintes características: idade, sexo, IMC, fumante, região e custo médico. \n",
    "\n",
    "**Desafio**\n",
    "\n",
    "Você é um profissional encarregado de desenvolver um modelo preditivo de regressão para prever o valor dos custos médicos individuais cobrados pelo seguro de saúde."
   ]
  },
  {
   "cell_type": "code",
   "execution_count": 137,
   "metadata": {},
   "outputs": [
    {
     "data": {
      "text/html": [
       "<div>\n",
       "<style scoped>\n",
       "    .dataframe tbody tr th:only-of-type {\n",
       "        vertical-align: middle;\n",
       "    }\n",
       "\n",
       "    .dataframe tbody tr th {\n",
       "        vertical-align: top;\n",
       "    }\n",
       "\n",
       "    .dataframe thead th {\n",
       "        text-align: right;\n",
       "    }\n",
       "</style>\n",
       "<table border=\"1\" class=\"dataframe\">\n",
       "  <thead>\n",
       "    <tr style=\"text-align: right;\">\n",
       "      <th></th>\n",
       "      <th>idade</th>\n",
       "      <th>sexo</th>\n",
       "      <th>imc</th>\n",
       "      <th>filhos</th>\n",
       "      <th>fumante</th>\n",
       "      <th>região</th>\n",
       "      <th>custos_médicos</th>\n",
       "    </tr>\n",
       "  </thead>\n",
       "  <tbody>\n",
       "    <tr>\n",
       "      <th>0</th>\n",
       "      <td>56</td>\n",
       "      <td>feminino</td>\n",
       "      <td>38.490198</td>\n",
       "      <td>4</td>\n",
       "      <td>sim</td>\n",
       "      <td>oeste</td>\n",
       "      <td>23999.019819</td>\n",
       "    </tr>\n",
       "    <tr>\n",
       "      <th>1</th>\n",
       "      <td>69</td>\n",
       "      <td>masculino</td>\n",
       "      <td>30.341074</td>\n",
       "      <td>2</td>\n",
       "      <td>não</td>\n",
       "      <td>sudoeste</td>\n",
       "      <td>13084.107421</td>\n",
       "    </tr>\n",
       "    <tr>\n",
       "      <th>2</th>\n",
       "      <td>46</td>\n",
       "      <td>masculino</td>\n",
       "      <td>38.648331</td>\n",
       "      <td>0</td>\n",
       "      <td>não</td>\n",
       "      <td>sul</td>\n",
       "      <td>10414.833078</td>\n",
       "    </tr>\n",
       "    <tr>\n",
       "      <th>3</th>\n",
       "      <td>32</td>\n",
       "      <td>feminino</td>\n",
       "      <td>29.102585</td>\n",
       "      <td>2</td>\n",
       "      <td>não</td>\n",
       "      <td>oeste</td>\n",
       "      <td>9660.258545</td>\n",
       "    </tr>\n",
       "    <tr>\n",
       "      <th>4</th>\n",
       "      <td>60</td>\n",
       "      <td>masculino</td>\n",
       "      <td>19.468496</td>\n",
       "      <td>1</td>\n",
       "      <td>sim</td>\n",
       "      <td>norte</td>\n",
       "      <td>20896.849641</td>\n",
       "    </tr>\n",
       "    <tr>\n",
       "      <th>5</th>\n",
       "      <td>25</td>\n",
       "      <td>masculino</td>\n",
       "      <td>22.753951</td>\n",
       "      <td>4</td>\n",
       "      <td>não</td>\n",
       "      <td>sudeste</td>\n",
       "      <td>9175.395124</td>\n",
       "    </tr>\n",
       "    <tr>\n",
       "      <th>6</th>\n",
       "      <td>38</td>\n",
       "      <td>masculino</td>\n",
       "      <td>26.055136</td>\n",
       "      <td>0</td>\n",
       "      <td>não</td>\n",
       "      <td>nordeste</td>\n",
       "      <td>8755.513602</td>\n",
       "    </tr>\n",
       "    <tr>\n",
       "      <th>7</th>\n",
       "      <td>56</td>\n",
       "      <td>feminino</td>\n",
       "      <td>38.658304</td>\n",
       "      <td>0</td>\n",
       "      <td>sim</td>\n",
       "      <td>noroeste</td>\n",
       "      <td>21715.830408</td>\n",
       "    </tr>\n",
       "    <tr>\n",
       "      <th>8</th>\n",
       "      <td>36</td>\n",
       "      <td>masculino</td>\n",
       "      <td>34.825237</td>\n",
       "      <td>3</td>\n",
       "      <td>não</td>\n",
       "      <td>nordeste</td>\n",
       "      <td>10932.523710</td>\n",
       "    </tr>\n",
       "    <tr>\n",
       "      <th>9</th>\n",
       "      <td>40</td>\n",
       "      <td>masculino</td>\n",
       "      <td>31.435128</td>\n",
       "      <td>1</td>\n",
       "      <td>não</td>\n",
       "      <td>sudoeste</td>\n",
       "      <td>9793.512764</td>\n",
       "    </tr>\n",
       "  </tbody>\n",
       "</table>\n",
       "</div>"
      ],
      "text/plain": [
       "   idade       sexo        imc  filhos fumante    região  custos_médicos\n",
       "0     56   feminino  38.490198       4     sim     oeste    23999.019819\n",
       "1     69  masculino  30.341074       2     não  sudoeste    13084.107421\n",
       "2     46  masculino  38.648331       0     não       sul    10414.833078\n",
       "3     32   feminino  29.102585       2     não     oeste     9660.258545\n",
       "4     60  masculino  19.468496       1     sim     norte    20896.849641\n",
       "5     25  masculino  22.753951       4     não   sudeste     9175.395124\n",
       "6     38  masculino  26.055136       0     não  nordeste     8755.513602\n",
       "7     56   feminino  38.658304       0     sim  noroeste    21715.830408\n",
       "8     36  masculino  34.825237       3     não  nordeste    10932.523710\n",
       "9     40  masculino  31.435128       1     não  sudoeste     9793.512764"
      ]
     },
     "execution_count": 137,
     "metadata": {},
     "output_type": "execute_result"
    }
   ],
   "source": [
    "# ! pip install pandas\n",
    "\n",
    "import pandas as pd\n",
    "# Carregamento dos dados\n",
    "dados = pd.read_csv(\"C:\\\\custos_medicos.csv.csv\")\n",
    "dados.head(10)"
   ]
  },
  {
   "cell_type": "code",
   "execution_count": 92,
   "metadata": {},
   "outputs": [
    {
     "data": {
      "text/plain": [
       "(100000, 7)"
      ]
     },
     "execution_count": 92,
     "metadata": {},
     "output_type": "execute_result"
    }
   ],
   "source": [
    "dados.shape"
   ]
  },
  {
   "cell_type": "code",
   "execution_count": 113,
   "metadata": {},
   "outputs": [
    {
     "data": {
      "text/plain": [
       "{'no', 'yes'}"
      ]
     },
     "execution_count": 113,
     "metadata": {},
     "output_type": "execute_result"
    }
   ],
   "source": [
    "set(dados.smoker)"
   ]
  },
  {
   "cell_type": "markdown",
   "metadata": {},
   "source": [
    "**Interferência sobre a base de dados:**\n",
    "\n",
    "Variável Target: No nosso case a target é a coluna fumante."
   ]
  },
  {
   "cell_type": "markdown",
   "metadata": {},
   "source": [
    "**Analisando os dados**"
   ]
  },
  {
   "cell_type": "code",
   "execution_count": 94,
   "metadata": {},
   "outputs": [
    {
     "data": {
      "text/html": [
       "<div>\n",
       "<style scoped>\n",
       "    .dataframe tbody tr th:only-of-type {\n",
       "        vertical-align: middle;\n",
       "    }\n",
       "\n",
       "    .dataframe tbody tr th {\n",
       "        vertical-align: top;\n",
       "    }\n",
       "\n",
       "    .dataframe thead th {\n",
       "        text-align: right;\n",
       "    }\n",
       "</style>\n",
       "<table border=\"1\" class=\"dataframe\">\n",
       "  <thead>\n",
       "    <tr style=\"text-align: right;\">\n",
       "      <th></th>\n",
       "      <th>idade</th>\n",
       "      <th>imc</th>\n",
       "      <th>filhos</th>\n",
       "      <th>custos_medicos</th>\n",
       "    </tr>\n",
       "  </thead>\n",
       "  <tbody>\n",
       "    <tr>\n",
       "      <th>count</th>\n",
       "      <td>100000.000000</td>\n",
       "      <td>100000.000000</td>\n",
       "      <td>100000.000000</td>\n",
       "      <td>100000.000000</td>\n",
       "    </tr>\n",
       "    <tr>\n",
       "      <th>mean</th>\n",
       "      <td>46.033670</td>\n",
       "      <td>29.268627</td>\n",
       "      <td>2.495820</td>\n",
       "      <td>16133.446689</td>\n",
       "    </tr>\n",
       "    <tr>\n",
       "      <th>std</th>\n",
       "      <td>16.433943</td>\n",
       "      <td>6.209564</td>\n",
       "      <td>1.707733</td>\n",
       "      <td>5377.966207</td>\n",
       "    </tr>\n",
       "    <tr>\n",
       "      <th>min</th>\n",
       "      <td>18.000000</td>\n",
       "      <td>18.500103</td>\n",
       "      <td>0.000000</td>\n",
       "      <td>5660.596020</td>\n",
       "    </tr>\n",
       "    <tr>\n",
       "      <th>25%</th>\n",
       "      <td>32.000000</td>\n",
       "      <td>23.875898</td>\n",
       "      <td>1.000000</td>\n",
       "      <td>11109.342839</td>\n",
       "    </tr>\n",
       "    <tr>\n",
       "      <th>50%</th>\n",
       "      <td>46.000000</td>\n",
       "      <td>29.273843</td>\n",
       "      <td>2.000000</td>\n",
       "      <td>16611.062819</td>\n",
       "    </tr>\n",
       "    <tr>\n",
       "      <th>75%</th>\n",
       "      <td>60.000000</td>\n",
       "      <td>34.629879</td>\n",
       "      <td>4.000000</td>\n",
       "      <td>21127.256892</td>\n",
       "    </tr>\n",
       "    <tr>\n",
       "      <th>max</th>\n",
       "      <td>74.000000</td>\n",
       "      <td>39.999772</td>\n",
       "      <td>5.000000</td>\n",
       "      <td>26493.884128</td>\n",
       "    </tr>\n",
       "  </tbody>\n",
       "</table>\n",
       "</div>"
      ],
      "text/plain": [
       "               idade            imc         filhos  custos_medicos\n",
       "count  100000.000000  100000.000000  100000.000000   100000.000000\n",
       "mean       46.033670      29.268627       2.495820    16133.446689\n",
       "std        16.433943       6.209564       1.707733     5377.966207\n",
       "min        18.000000      18.500103       0.000000     5660.596020\n",
       "25%        32.000000      23.875898       1.000000    11109.342839\n",
       "50%        46.000000      29.273843       2.000000    16611.062819\n",
       "75%        60.000000      34.629879       4.000000    21127.256892\n",
       "max        74.000000      39.999772       5.000000    26493.884128"
      ]
     },
     "execution_count": 94,
     "metadata": {},
     "output_type": "execute_result"
    }
   ],
   "source": [
    "# Estatísticas descritivas\n",
    "dados.describe()\n",
    "# int, float    "
   ]
  },
  {
   "cell_type": "code",
   "execution_count": 95,
   "metadata": {},
   "outputs": [
    {
     "name": "stdout",
     "output_type": "stream",
     "text": [
      "<class 'pandas.core.frame.DataFrame'>\n",
      "RangeIndex: 100000 entries, 0 to 99999\n",
      "Data columns (total 7 columns):\n",
      " #   Column          Non-Null Count   Dtype  \n",
      "---  ------          --------------   -----  \n",
      " 0   idade           100000 non-null  int64  \n",
      " 1   sexo            100000 non-null  object \n",
      " 2   imc             100000 non-null  float64\n",
      " 3   filhos          100000 non-null  int64  \n",
      " 4   fumante         100000 non-null  object \n",
      " 5   região          100000 non-null  object \n",
      " 6   custos_medicos  100000 non-null  float64\n",
      "dtypes: float64(2), int64(2), object(3)\n",
      "memory usage: 5.3+ MB\n"
     ]
    }
   ],
   "source": [
    "# Análise descritiva\n",
    "dados.info()"
   ]
  },
  {
   "cell_type": "markdown",
   "metadata": {},
   "source": [
    "Analisando as váriavies númericas:"
   ]
  },
  {
   "cell_type": "code",
   "execution_count": 96,
   "metadata": {},
   "outputs": [],
   "source": [
    "# ! pip install seaborn\n",
    "import seaborn as sb"
   ]
  },
  {
   "cell_type": "markdown",
   "metadata": {},
   "source": [
    "Analisando as variáveis numéricas:\n",
    "\n",
    "Vamos analisar e compreender a distribuição dos dados para cada métrica de pontuação de seguro de saude. Será que temos outliers na base?"
   ]
  },
  {
   "cell_type": "code",
   "execution_count": 114,
   "metadata": {},
   "outputs": [
    {
     "data": {
      "text/plain": [
       "<Axes: xlabel='age'>"
      ]
     },
     "execution_count": 114,
     "metadata": {},
     "output_type": "execute_result"
    },
    {
     "data": {
      "image/png": "[encoded data removed]",
      "text/plain": [
       "<Figure size 640x480 with 1 Axes>"
      ]
     },
     "metadata": {},
     "output_type": "display_data"
    }
   ],
   "source": [
    "sb.boxplot(x=dados[\"age\"])"
   ]
  },
  {
   "cell_type": "code",
   "execution_count": 122,
   "metadata": {},
   "outputs": [
    {
     "name": "stdout",
     "output_type": "stream",
     "text": [
      "18\n",
      "64\n"
     ]
    }
   ],
   "source": [
    "print(dados['age'].min())\n",
    "print(dados['age'].max())"
   ]
  },
  {
   "cell_type": "code",
   "execution_count": 115,
   "metadata": {},
   "outputs": [
    {
     "data": {
      "text/plain": [
       "<Axes: xlabel='age', ylabel='Count'>"
      ]
     },
     "execution_count": 115,
     "metadata": {},
     "output_type": "execute_result"
    },
    {
     "data": {
      "image/png": "[encoded data removed]",
      "text/plain": [
       "<Figure size 640x480 with 1 Axes>"
      ]
     },
     "metadata": {},
     "output_type": "display_data"
    }
   ],
   "source": [
    "sb.histplot(data=dados, x=\"age\")"
   ]
  },
  {
   "cell_type": "code",
   "execution_count": 116,
   "metadata": {},
   "outputs": [
    {
     "data": {
      "text/plain": [
       "<Axes: xlabel='bmi', ylabel='Count'>"
      ]
     },
     "execution_count": 116,
     "metadata": {},
     "output_type": "execute_result"
    },
    {
     "data": {
      "image/png": "[encoded data removed]",
      "text/plain": [
       "<Figure size 640x480 with 1 Axes>"
      ]
     },
     "metadata": {},
     "output_type": "display_data"
    }
   ],
   "source": [
    "sb.histplot(data=dados, x=\"bmi\")"
   ]
  },
  {
   "cell_type": "code",
   "execution_count": 117,
   "metadata": {},
   "outputs": [
    {
     "data": {
      "text/plain": [
       "<Axes: xlabel='bmi'>"
      ]
     },
     "execution_count": 117,
     "metadata": {},
     "output_type": "execute_result"
    },
    {
     "data": {
      "image/png": "[encoded data removed]",
      "text/plain": [
       "<Figure size 640x480 with 1 Axes>"
      ]
     },
     "metadata": {},
     "output_type": "display_data"
    }
   ],
   "source": [
    "sb.boxplot(x=dados[\"bmi\"])"
   ]
  },
  {
   "cell_type": "code",
   "execution_count": 118,
   "metadata": {},
   "outputs": [
    {
     "data": {
      "text/plain": [
       "<Axes: xlabel='smoker'>"
      ]
     },
     "execution_count": 118,
     "metadata": {},
     "output_type": "execute_result"
    },
    {
     "data": {
      "image/png": "[encoded data removed]",
      "text/plain": [
       "<Figure size 640x480 with 1 Axes>"
      ]
     },
     "metadata": {},
     "output_type": "display_data"
    }
   ],
   "source": [
    "sb.boxplot(x=dados[\"smoker\"])"
   ]
  },
  {
   "cell_type": "code",
   "execution_count": 119,
   "metadata": {},
   "outputs": [
    {
     "data": {
      "text/plain": [
       "<Axes: xlabel='smoker', ylabel='Count'>"
      ]
     },
     "execution_count": 119,
     "metadata": {},
     "output_type": "execute_result"
    },
    {
     "data": {
      "image/png": "[encoded data removed]",
      "text/plain": [
       "<Figure size 640x480 with 1 Axes>"
      ]
     },
     "metadata": {},
     "output_type": "display_data"
    }
   ],
   "source": [
    "sb.histplot(data=dados, x=\"smoker\")"
   ]
  },
  {
   "cell_type": "code",
   "execution_count": 120,
   "metadata": {},
   "outputs": [
    {
     "data": {
      "text/plain": [
       "<Axes: xlabel='charges'>"
      ]
     },
     "execution_count": 120,
     "metadata": {},
     "output_type": "execute_result"
    },
    {
     "data": {
      "image/png": "[encoded data removed]",
      "text/plain": [
       "<Figure size 640x480 with 1 Axes>"
      ]
     },
     "metadata": {},
     "output_type": "display_data"
    }
   ],
   "source": [
    "sb.boxplot(x=dados[\"charges\"])"
   ]
  },
  {
   "cell_type": "code",
   "execution_count": 121,
   "metadata": {},
   "outputs": [
    {
     "data": {
      "text/plain": [
       "<Axes: xlabel='charges', ylabel='Count'>"
      ]
     },
     "execution_count": 121,
     "metadata": {},
     "output_type": "execute_result"
    },
    {
     "data": {
      "image/png": "[encoded data removed]",
      "text/plain": [
       "<Figure size 640x480 with 1 Axes>"
      ]
     },
     "metadata": {},
     "output_type": "display_data"
    }
   ],
   "source": [
    "sb.histplot(data=dados, x=\"charges\")"
   ]
  },
  {
   "cell_type": "code",
   "execution_count": null,
   "metadata": {},
   "outputs": [],
   "source": [
    "\n",
    "import numpy as np\n",
    "# Criando dataframe somente com nossas variáveis numericas\n",
    "# Matriz de correlacao trabalha somente com dados numericos \n",
    "dados_numerico = dados.select_dtypes([np.number])\n",
    "# Calcula a matriz de correlação\n",
    "correlation_matrix = dados_numerico.corr()\n",
    "correlation_matrix"
   ]
  },
  {
   "cell_type": "code",
   "execution_count": 140,
   "metadata": {},
   "outputs": [
    {
     "data": {
      "image/png": "[encoded data removed]",
      "text/plain": [
       "<Figure size 1000x600 with 2 Axes>"
      ]
     },
     "metadata": {},
     "output_type": "display_data"
    }
   ],
   "source": [
    "# # ! pip install matplotlib\n",
    "\n",
    "import matplotlib.pyplot as plt\n",
    "import seaborn as sb\n",
    "import matplotlib.pyplot as plt\n",
    "%matplotlib inline\n",
    "\n",
    "# Supondo que 'dados' seja seu DataFrame\n",
    "# Filtrar colunas numéricas\n",
    "\n",
    "numeric_dados = dados.select_dtypes('number')\n",
    "# Calcular a matriz de correlação\n",
    "correlation_matrix = numeric_dados.corr().round(2)\n",
    "# arrendondo os valores das correlacoes\n",
    "fig, ax = plt.subplots(figsize=(10, 6))\n",
    "sb.heatmap(data= correlation_matrix, annot=True, linewidths=.5, ax=ax)\n",
    "plt.show()\n",
    "\n"
   ]
  }
 ],
 "metadata": {
  "kernelspec": {
   "display_name": "Python 3",
   "language": "python",
   "name": "python3"
  },
  "language_info": {
   "codemirror_mode": {
    "name": "ipython",
    "version": 3
   },
   "file_extension": ".py",
   "mimetype": "text/x-python",
   "name": "python",
   "nbconvert_exporter": "python",
   "pygments_lexer": "ipython3",
   "version": "3.12.2"
  }
 },
 "nbformat": 4,
 "nbformat_minor": 2
}
